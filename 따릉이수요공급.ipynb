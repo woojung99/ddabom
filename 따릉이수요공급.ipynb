{
 "cells": [
  {
   "cell_type": "code",
   "execution_count": 1,
   "id": "5c9ee497-f14a-4642-b2e2-a57fb028ba3c",
   "metadata": {},
   "outputs": [],
   "source": [
    "import matplotlib.pyplot as plt\n",
    "import numpy as np\n",
    "import pandas as pd\n",
    "import seaborn as sns\n",
    "import folium\n",
    "import geopandas as gpd\n",
    "from datetime import datetime"
   ]
  },
  {
   "cell_type": "code",
   "execution_count": 2,
   "id": "052b2e38-b451-4737-82bd-1cf7c5997c4e",
   "metadata": {},
   "outputs": [],
   "source": [
    "# Windows용 한글 폰트 오류 해결\n",
    "from matplotlib import font_manager, rc\n",
    "font_path = \"C:/Windows/Fonts/malgun.ttf\"\n",
    "font_name = font_manager.FontProperties(fname = font_path).get_name()\n",
    "rc(\"font\", family = font_name)\n",
    "# font_name = \"내가 사용하고자 하는 글꼴\""
   ]
  },
  {
   "cell_type": "code",
   "execution_count": 4,
   "id": "f81fe500-c3ef-4c67-ac69-d87d3ee8251a",
   "metadata": {},
   "outputs": [],
   "source": [
    "df = pd.read_excel(\"./data/지하철1km종사자수_인구수.xlsx\")"
   ]
  },
  {
   "cell_type": "code",
   "execution_count": 5,
   "id": "1f5d27ac-45c2-4e4d-a6d2-4e360d4d9fc7",
   "metadata": {},
   "outputs": [
    {
     "data": {
      "text/html": [
       "<div>\n",
       "<style scoped>\n",
       "    .dataframe tbody tr th:only-of-type {\n",
       "        vertical-align: middle;\n",
       "    }\n",
       "\n",
       "    .dataframe tbody tr th {\n",
       "        vertical-align: top;\n",
       "    }\n",
       "\n",
       "    .dataframe thead th {\n",
       "        text-align: right;\n",
       "    }\n",
       "</style>\n",
       "<table border=\"1\" class=\"dataframe\">\n",
       "  <thead>\n",
       "    <tr style=\"text-align: right;\">\n",
       "      <th></th>\n",
       "      <th>지하철역</th>\n",
       "      <th>종사자수</th>\n",
       "      <th>거주인구수</th>\n",
       "    </tr>\n",
       "  </thead>\n",
       "  <tbody>\n",
       "    <tr>\n",
       "      <th>0</th>\n",
       "      <td>화곡</td>\n",
       "      <td>21436</td>\n",
       "      <td>121043</td>\n",
       "    </tr>\n",
       "    <tr>\n",
       "      <th>1</th>\n",
       "      <td>까치산</td>\n",
       "      <td>20138</td>\n",
       "      <td>119443</td>\n",
       "    </tr>\n",
       "    <tr>\n",
       "      <th>2</th>\n",
       "      <td>봉천</td>\n",
       "      <td>27624</td>\n",
       "      <td>118550</td>\n",
       "    </tr>\n",
       "    <tr>\n",
       "      <th>3</th>\n",
       "      <td>길동</td>\n",
       "      <td>40240</td>\n",
       "      <td>117367</td>\n",
       "    </tr>\n",
       "    <tr>\n",
       "      <th>4</th>\n",
       "      <td>응암</td>\n",
       "      <td>25290</td>\n",
       "      <td>115789</td>\n",
       "    </tr>\n",
       "  </tbody>\n",
       "</table>\n",
       "</div>"
      ],
      "text/plain": [
       "  지하철역   종사자수   거주인구수\n",
       "0   화곡  21436  121043\n",
       "1  까치산  20138  119443\n",
       "2   봉천  27624  118550\n",
       "3   길동  40240  117367\n",
       "4   응암  25290  115789"
      ]
     },
     "execution_count": 5,
     "metadata": {},
     "output_type": "execute_result"
    }
   ],
   "source": [
    "df.head()"
   ]
  },
  {
   "cell_type": "code",
   "execution_count": 6,
   "id": "89593de8-0117-457c-b41c-ad98b9238d85",
   "metadata": {},
   "outputs": [
    {
     "data": {
      "text/plain": [
       "(299, 3)"
      ]
     },
     "execution_count": 6,
     "metadata": {},
     "output_type": "execute_result"
    }
   ],
   "source": [
    "df.shape"
   ]
  },
  {
   "cell_type": "code",
   "execution_count": 9,
   "id": "66c1f63f-e297-4e63-a426-2cea64846398",
   "metadata": {},
   "outputs": [
    {
     "data": {
      "text/plain": [
       "지하철역     0\n",
       "종사자수     0\n",
       "거주인구수    0\n",
       "dtype: int64"
      ]
     },
     "execution_count": 9,
     "metadata": {},
     "output_type": "execute_result"
    }
   ],
   "source": [
    "df.isna().sum()"
   ]
  },
  {
   "cell_type": "markdown",
   "id": "daeac371-9215-4e19-8515-b3234e607d4e",
   "metadata": {},
   "source": [
    "# 출근시간\n",
    "\n",
    "- 지하철역에서 회사로 이동할 때 따릉이 이용\n",
    "\n",
    "- 역 주변 종사자수 데이터와 따릉이 총 거치대수를 활용하여 수요공급지수 판단"
   ]
  },
  {
   "cell_type": "code",
   "execution_count": 8,
   "id": "7ea24079-c963-43fd-b0c9-792518bbe2eb",
   "metadata": {},
   "outputs": [
    {
     "data": {
      "text/html": [
       "<div>\n",
       "<style scoped>\n",
       "    .dataframe tbody tr th:only-of-type {\n",
       "        vertical-align: middle;\n",
       "    }\n",
       "\n",
       "    .dataframe tbody tr th {\n",
       "        vertical-align: top;\n",
       "    }\n",
       "\n",
       "    .dataframe thead th {\n",
       "        text-align: right;\n",
       "    }\n",
       "</style>\n",
       "<table border=\"1\" class=\"dataframe\">\n",
       "  <thead>\n",
       "    <tr style=\"text-align: right;\">\n",
       "      <th></th>\n",
       "      <th>지하철역</th>\n",
       "      <th>종사자수</th>\n",
       "    </tr>\n",
       "  </thead>\n",
       "  <tbody>\n",
       "    <tr>\n",
       "      <th>293</th>\n",
       "      <td>시청</td>\n",
       "      <td>285266</td>\n",
       "    </tr>\n",
       "    <tr>\n",
       "      <th>295</th>\n",
       "      <td>을지로입구</td>\n",
       "      <td>281998</td>\n",
       "    </tr>\n",
       "    <tr>\n",
       "      <th>296</th>\n",
       "      <td>종각</td>\n",
       "      <td>253275</td>\n",
       "    </tr>\n",
       "    <tr>\n",
       "      <th>290</th>\n",
       "      <td>광화문(세종문화회관)</td>\n",
       "      <td>238362</td>\n",
       "    </tr>\n",
       "    <tr>\n",
       "      <th>161</th>\n",
       "      <td>강남</td>\n",
       "      <td>216794</td>\n",
       "    </tr>\n",
       "    <tr>\n",
       "      <th>...</th>\n",
       "      <td>...</td>\n",
       "      <td>...</td>\n",
       "    </tr>\n",
       "    <tr>\n",
       "      <th>291</th>\n",
       "      <td>동작(현충원)</td>\n",
       "      <td>5756</td>\n",
       "    </tr>\n",
       "    <tr>\n",
       "      <th>284</th>\n",
       "      <td>서빙고</td>\n",
       "      <td>5485</td>\n",
       "    </tr>\n",
       "    <tr>\n",
       "      <th>297</th>\n",
       "      <td>개화</td>\n",
       "      <td>4149</td>\n",
       "    </tr>\n",
       "    <tr>\n",
       "      <th>286</th>\n",
       "      <td>북한산우이</td>\n",
       "      <td>3938</td>\n",
       "    </tr>\n",
       "    <tr>\n",
       "      <th>298</th>\n",
       "      <td>남태령</td>\n",
       "      <td>2478</td>\n",
       "    </tr>\n",
       "  </tbody>\n",
       "</table>\n",
       "<p>299 rows × 2 columns</p>\n",
       "</div>"
      ],
      "text/plain": [
       "            지하철역    종사자수\n",
       "293           시청  285266\n",
       "295        을지로입구  281998\n",
       "296           종각  253275\n",
       "290  광화문(세종문화회관)  238362\n",
       "161           강남  216794\n",
       "..           ...     ...\n",
       "291      동작(현충원)    5756\n",
       "284          서빙고    5485\n",
       "297           개화    4149\n",
       "286        북한산우이    3938\n",
       "298          남태령    2478\n",
       "\n",
       "[299 rows x 2 columns]"
      ]
     },
     "execution_count": 8,
     "metadata": {},
     "output_type": "execute_result"
    }
   ],
   "source": [
    "df[[\"지하철역\", \"종사자수\"]].sort_values(\"종사자수\", ascending = False)"
   ]
  },
  {
   "cell_type": "code",
   "execution_count": 39,
   "id": "172336f0-3185-474f-ba22-a5d79f63f16c",
   "metadata": {},
   "outputs": [],
   "source": [
    "bicy = pd.read_excel(\"./data/출근_승차_따릉이DB.xlsx\")"
   ]
  },
  {
   "cell_type": "code",
   "execution_count": 40,
   "id": "c85ec3ed-121a-4c23-9f91-8f94831039bb",
   "metadata": {
    "scrolled": true
   },
   "outputs": [
    {
     "data": {
      "text/html": [
       "<div>\n",
       "<style scoped>\n",
       "    .dataframe tbody tr th:only-of-type {\n",
       "        vertical-align: middle;\n",
       "    }\n",
       "\n",
       "    .dataframe tbody tr th {\n",
       "        vertical-align: top;\n",
       "    }\n",
       "\n",
       "    .dataframe thead th {\n",
       "        text-align: right;\n",
       "    }\n",
       "</style>\n",
       "<table border=\"1\" class=\"dataframe\">\n",
       "  <thead>\n",
       "    <tr style=\"text-align: right;\">\n",
       "      <th></th>\n",
       "      <th>Unnamed: 0</th>\n",
       "      <th>대여소번호</th>\n",
       "      <th>월</th>\n",
       "      <th>대여소명</th>\n",
       "      <th>대여소_위도</th>\n",
       "      <th>대여소_경도</th>\n",
       "      <th>이격거리</th>\n",
       "      <th>지하철역</th>\n",
       "      <th>역사_위도</th>\n",
       "      <th>역사_경도</th>\n",
       "      <th>거치대수</th>\n",
       "      <th>06시-07시</th>\n",
       "      <th>07시-08시</th>\n",
       "      <th>08시-09시</th>\n",
       "      <th>09시-10시</th>\n",
       "      <th>06시-07시 승차인원</th>\n",
       "      <th>07시-08시 승차인원</th>\n",
       "      <th>08시-09시 승차인원</th>\n",
       "      <th>09시-10시 승차인원</th>\n",
       "    </tr>\n",
       "  </thead>\n",
       "  <tbody>\n",
       "    <tr>\n",
       "      <th>0</th>\n",
       "      <td>0</td>\n",
       "      <td>102</td>\n",
       "      <td>1</td>\n",
       "      <td>망원역 1번출구 앞</td>\n",
       "      <td>37.555649</td>\n",
       "      <td>126.910629</td>\n",
       "      <td>71.0</td>\n",
       "      <td>망원</td>\n",
       "      <td>37.556094</td>\n",
       "      <td>126.910052</td>\n",
       "      <td>15</td>\n",
       "      <td>23</td>\n",
       "      <td>36</td>\n",
       "      <td>90</td>\n",
       "      <td>89</td>\n",
       "      <td>9609</td>\n",
       "      <td>24904</td>\n",
       "      <td>37885</td>\n",
       "      <td>24495</td>\n",
       "    </tr>\n",
       "    <tr>\n",
       "      <th>1</th>\n",
       "      <td>1</td>\n",
       "      <td>102</td>\n",
       "      <td>2</td>\n",
       "      <td>망원역 1번출구 앞</td>\n",
       "      <td>37.555649</td>\n",
       "      <td>126.910629</td>\n",
       "      <td>71.0</td>\n",
       "      <td>망원</td>\n",
       "      <td>37.556094</td>\n",
       "      <td>126.910052</td>\n",
       "      <td>15</td>\n",
       "      <td>17</td>\n",
       "      <td>28</td>\n",
       "      <td>73</td>\n",
       "      <td>102</td>\n",
       "      <td>8459</td>\n",
       "      <td>22163</td>\n",
       "      <td>33693</td>\n",
       "      <td>22728</td>\n",
       "    </tr>\n",
       "    <tr>\n",
       "      <th>2</th>\n",
       "      <td>2</td>\n",
       "      <td>102</td>\n",
       "      <td>3</td>\n",
       "      <td>망원역 1번출구 앞</td>\n",
       "      <td>37.555649</td>\n",
       "      <td>126.910629</td>\n",
       "      <td>71.0</td>\n",
       "      <td>망원</td>\n",
       "      <td>37.556094</td>\n",
       "      <td>126.910052</td>\n",
       "      <td>15</td>\n",
       "      <td>28</td>\n",
       "      <td>20</td>\n",
       "      <td>99</td>\n",
       "      <td>150</td>\n",
       "      <td>10300</td>\n",
       "      <td>28503</td>\n",
       "      <td>37807</td>\n",
       "      <td>26551</td>\n",
       "    </tr>\n",
       "    <tr>\n",
       "      <th>3</th>\n",
       "      <td>3</td>\n",
       "      <td>102</td>\n",
       "      <td>4</td>\n",
       "      <td>망원역 1번출구 앞</td>\n",
       "      <td>37.555649</td>\n",
       "      <td>126.910629</td>\n",
       "      <td>71.0</td>\n",
       "      <td>망원</td>\n",
       "      <td>37.556094</td>\n",
       "      <td>126.910052</td>\n",
       "      <td>15</td>\n",
       "      <td>22</td>\n",
       "      <td>72</td>\n",
       "      <td>189</td>\n",
       "      <td>144</td>\n",
       "      <td>11128</td>\n",
       "      <td>29115</td>\n",
       "      <td>39451</td>\n",
       "      <td>27069</td>\n",
       "    </tr>\n",
       "    <tr>\n",
       "      <th>4</th>\n",
       "      <td>4</td>\n",
       "      <td>102</td>\n",
       "      <td>5</td>\n",
       "      <td>망원역 1번출구 앞</td>\n",
       "      <td>37.555649</td>\n",
       "      <td>126.910629</td>\n",
       "      <td>71.0</td>\n",
       "      <td>망원</td>\n",
       "      <td>37.556094</td>\n",
       "      <td>126.910052</td>\n",
       "      <td>15</td>\n",
       "      <td>28</td>\n",
       "      <td>69</td>\n",
       "      <td>213</td>\n",
       "      <td>158</td>\n",
       "      <td>10779</td>\n",
       "      <td>28256</td>\n",
       "      <td>38591</td>\n",
       "      <td>27325</td>\n",
       "    </tr>\n",
       "  </tbody>\n",
       "</table>\n",
       "</div>"
      ],
      "text/plain": [
       "   Unnamed: 0  대여소번호  월        대여소명     대여소_위도      대여소_경도  이격거리 지하철역  \\\n",
       "0           0    102  1  망원역 1번출구 앞  37.555649  126.910629  71.0   망원   \n",
       "1           1    102  2  망원역 1번출구 앞  37.555649  126.910629  71.0   망원   \n",
       "2           2    102  3  망원역 1번출구 앞  37.555649  126.910629  71.0   망원   \n",
       "3           3    102  4  망원역 1번출구 앞  37.555649  126.910629  71.0   망원   \n",
       "4           4    102  5  망원역 1번출구 앞  37.555649  126.910629  71.0   망원   \n",
       "\n",
       "       역사_위도       역사_경도  거치대수  06시-07시  07시-08시  08시-09시  09시-10시  \\\n",
       "0  37.556094  126.910052    15       23       36       90       89   \n",
       "1  37.556094  126.910052    15       17       28       73      102   \n",
       "2  37.556094  126.910052    15       28       20       99      150   \n",
       "3  37.556094  126.910052    15       22       72      189      144   \n",
       "4  37.556094  126.910052    15       28       69      213      158   \n",
       "\n",
       "   06시-07시 승차인원  07시-08시 승차인원  08시-09시 승차인원  09시-10시 승차인원  \n",
       "0          9609         24904         37885         24495  \n",
       "1          8459         22163         33693         22728  \n",
       "2         10300         28503         37807         26551  \n",
       "3         11128         29115         39451         27069  \n",
       "4         10779         28256         38591         27325  "
      ]
     },
     "execution_count": 40,
     "metadata": {},
     "output_type": "execute_result"
    }
   ],
   "source": [
    "bicy.head()"
   ]
  },
  {
   "cell_type": "code",
   "execution_count": 42,
   "id": "7236aeac-cb97-455f-b68f-064feddb2fda",
   "metadata": {},
   "outputs": [],
   "source": [
    "bicy = bicy.groupby([\"대여소명\", \"지하철역\"])[\"거치대수\"].mean()"
   ]
  },
  {
   "cell_type": "code",
   "execution_count": 52,
   "id": "3152023e-0e5a-4bfb-969e-b4b29c260ddb",
   "metadata": {},
   "outputs": [],
   "source": [
    "bicy = bicy.groupby(\"지하철역\").sum()"
   ]
  },
  {
   "cell_type": "code",
   "execution_count": 55,
   "id": "1462e8a6-3918-4cbe-b716-05162f313857",
   "metadata": {},
   "outputs": [
    {
     "data": {
      "text/plain": [
       "지하철역\n",
       "4.19민주묘지       27.0\n",
       "가락시장           85.0\n",
       "가산디지털단지        40.0\n",
       "가양             59.0\n",
       "가오리            53.0\n",
       "               ... \n",
       "화랑대(서울여대입구)    58.0\n",
       "회기             31.0\n",
       "회현(남대문시장)      34.0\n",
       "효창공원앞          42.0\n",
       "흑석(중앙대입구)      57.0\n",
       "Name: 거치대수, Length: 299, dtype: float64"
      ]
     },
     "execution_count": 55,
     "metadata": {},
     "output_type": "execute_result"
    }
   ],
   "source": [
    "bicy"
   ]
  },
  {
   "cell_type": "code",
   "execution_count": 53,
   "id": "7e4f1053-dbf7-4a5b-a298-940201828f4d",
   "metadata": {},
   "outputs": [
    {
     "data": {
      "text/plain": [
       "array([ 27.,  85.,  40.,  59.,  53.,  73.,  42.,  16.,  76.,  90.,  48.,\n",
       "        58.,  29.,  75.,  20.,  35.,  45.,  54.,  64.,  62.,  66.,  28.,\n",
       "        31.,  25.,  13., 107.,  61.,  44.,  55.,  43.,  65., 101.,  70.,\n",
       "        19.,  30.,  10.,  50.,  47.,  79.,  49.,  23.,  46.,  56.,  39.,\n",
       "        78.,  60.,  57.,  68., 100., 138., 192.,  38.,  24.,  15.,  18.,\n",
       "        69., 147.,   5.,  63.,  33.,  67.,  26.,  32.,  51.,   8.,  12.,\n",
       "        52.,  14.,  37.,  36.,  22.,  34., 102.,   9., 105., 152.,  21.,\n",
       "        41.,   7.,  71., 114.,  95.,  98.,  81.,  84.,  77.])"
      ]
     },
     "execution_count": 53,
     "metadata": {},
     "output_type": "execute_result"
    }
   ],
   "source": [
    "bicy.unique()"
   ]
  },
  {
   "cell_type": "code",
   "execution_count": 57,
   "id": "957c8f06-1eca-45fa-9ab4-6570812f8724",
   "metadata": {},
   "outputs": [],
   "source": [
    "bicy.to_csv(\"./data/역별_따릉이_총거치대수.csv\")"
   ]
  },
  {
   "cell_type": "code",
   "execution_count": 61,
   "id": "85ef1379-fdeb-4f56-a6d3-9d43d19d571c",
   "metadata": {},
   "outputs": [],
   "source": [
    "bicy = pd.DataFrame(bicy)"
   ]
  },
  {
   "cell_type": "code",
   "execution_count": 62,
   "id": "3d6b1ee8-2ef0-4051-b8ac-e50f6469ef79",
   "metadata": {
    "scrolled": true
   },
   "outputs": [
    {
     "data": {
      "text/html": [
       "<div>\n",
       "<style scoped>\n",
       "    .dataframe tbody tr th:only-of-type {\n",
       "        vertical-align: middle;\n",
       "    }\n",
       "\n",
       "    .dataframe tbody tr th {\n",
       "        vertical-align: top;\n",
       "    }\n",
       "\n",
       "    .dataframe thead th {\n",
       "        text-align: right;\n",
       "    }\n",
       "</style>\n",
       "<table border=\"1\" class=\"dataframe\">\n",
       "  <thead>\n",
       "    <tr style=\"text-align: right;\">\n",
       "      <th></th>\n",
       "      <th>거치대수</th>\n",
       "    </tr>\n",
       "    <tr>\n",
       "      <th>지하철역</th>\n",
       "      <th></th>\n",
       "    </tr>\n",
       "  </thead>\n",
       "  <tbody>\n",
       "    <tr>\n",
       "      <th>4.19민주묘지</th>\n",
       "      <td>27.0</td>\n",
       "    </tr>\n",
       "    <tr>\n",
       "      <th>가락시장</th>\n",
       "      <td>85.0</td>\n",
       "    </tr>\n",
       "    <tr>\n",
       "      <th>가산디지털단지</th>\n",
       "      <td>40.0</td>\n",
       "    </tr>\n",
       "    <tr>\n",
       "      <th>가양</th>\n",
       "      <td>59.0</td>\n",
       "    </tr>\n",
       "    <tr>\n",
       "      <th>가오리</th>\n",
       "      <td>53.0</td>\n",
       "    </tr>\n",
       "    <tr>\n",
       "      <th>...</th>\n",
       "      <td>...</td>\n",
       "    </tr>\n",
       "    <tr>\n",
       "      <th>화랑대(서울여대입구)</th>\n",
       "      <td>58.0</td>\n",
       "    </tr>\n",
       "    <tr>\n",
       "      <th>회기</th>\n",
       "      <td>31.0</td>\n",
       "    </tr>\n",
       "    <tr>\n",
       "      <th>회현(남대문시장)</th>\n",
       "      <td>34.0</td>\n",
       "    </tr>\n",
       "    <tr>\n",
       "      <th>효창공원앞</th>\n",
       "      <td>42.0</td>\n",
       "    </tr>\n",
       "    <tr>\n",
       "      <th>흑석(중앙대입구)</th>\n",
       "      <td>57.0</td>\n",
       "    </tr>\n",
       "  </tbody>\n",
       "</table>\n",
       "<p>299 rows × 1 columns</p>\n",
       "</div>"
      ],
      "text/plain": [
       "             거치대수\n",
       "지하철역             \n",
       "4.19민주묘지     27.0\n",
       "가락시장         85.0\n",
       "가산디지털단지      40.0\n",
       "가양           59.0\n",
       "가오리          53.0\n",
       "...           ...\n",
       "화랑대(서울여대입구)  58.0\n",
       "회기           31.0\n",
       "회현(남대문시장)    34.0\n",
       "효창공원앞        42.0\n",
       "흑석(중앙대입구)    57.0\n",
       "\n",
       "[299 rows x 1 columns]"
      ]
     },
     "execution_count": 62,
     "metadata": {},
     "output_type": "execute_result"
    }
   ],
   "source": [
    "bicy"
   ]
  },
  {
   "cell_type": "code",
   "execution_count": 69,
   "id": "dd628fd8-db0d-4078-9ebb-a4aab1b8ad20",
   "metadata": {},
   "outputs": [
    {
     "data": {
      "text/plain": [
       "거치대수    69.0\n",
       "Name: 봉천, dtype: float64"
      ]
     },
     "execution_count": 69,
     "metadata": {},
     "output_type": "execute_result"
    }
   ],
   "source": [
    "bicy.loc[\"봉천\"]"
   ]
  },
  {
   "cell_type": "code",
   "execution_count": 59,
   "id": "4e1f45aa-acf2-4282-954c-03528ce444ed",
   "metadata": {},
   "outputs": [
    {
     "data": {
      "text/html": [
       "<div>\n",
       "<style scoped>\n",
       "    .dataframe tbody tr th:only-of-type {\n",
       "        vertical-align: middle;\n",
       "    }\n",
       "\n",
       "    .dataframe tbody tr th {\n",
       "        vertical-align: top;\n",
       "    }\n",
       "\n",
       "    .dataframe thead th {\n",
       "        text-align: right;\n",
       "    }\n",
       "</style>\n",
       "<table border=\"1\" class=\"dataframe\">\n",
       "  <thead>\n",
       "    <tr style=\"text-align: right;\">\n",
       "      <th></th>\n",
       "      <th>지하철역</th>\n",
       "      <th>종사자수</th>\n",
       "      <th>거주인구수</th>\n",
       "    </tr>\n",
       "  </thead>\n",
       "  <tbody>\n",
       "    <tr>\n",
       "      <th>0</th>\n",
       "      <td>화곡</td>\n",
       "      <td>21436</td>\n",
       "      <td>121043</td>\n",
       "    </tr>\n",
       "    <tr>\n",
       "      <th>1</th>\n",
       "      <td>까치산</td>\n",
       "      <td>20138</td>\n",
       "      <td>119443</td>\n",
       "    </tr>\n",
       "    <tr>\n",
       "      <th>2</th>\n",
       "      <td>봉천</td>\n",
       "      <td>27624</td>\n",
       "      <td>118550</td>\n",
       "    </tr>\n",
       "    <tr>\n",
       "      <th>3</th>\n",
       "      <td>길동</td>\n",
       "      <td>40240</td>\n",
       "      <td>117367</td>\n",
       "    </tr>\n",
       "    <tr>\n",
       "      <th>4</th>\n",
       "      <td>응암</td>\n",
       "      <td>25290</td>\n",
       "      <td>115789</td>\n",
       "    </tr>\n",
       "  </tbody>\n",
       "</table>\n",
       "</div>"
      ],
      "text/plain": [
       "  지하철역   종사자수   거주인구수\n",
       "0   화곡  21436  121043\n",
       "1  까치산  20138  119443\n",
       "2   봉천  27624  118550\n",
       "3   길동  40240  117367\n",
       "4   응암  25290  115789"
      ]
     },
     "execution_count": 59,
     "metadata": {},
     "output_type": "execute_result"
    }
   ],
   "source": [
    "df.head()"
   ]
  },
  {
   "cell_type": "code",
   "execution_count": 64,
   "id": "32e70d0b-65fd-4b96-96a5-d632ef75ce78",
   "metadata": {},
   "outputs": [],
   "source": [
    "df = df.set_index(\"지하철역\")"
   ]
  },
  {
   "cell_type": "code",
   "execution_count": 70,
   "id": "42839075-813f-489a-8d60-a8892d498868",
   "metadata": {},
   "outputs": [],
   "source": [
    "ds_balance = pd.concat([df, bicy], axis = 1)"
   ]
  },
  {
   "cell_type": "code",
   "execution_count": 72,
   "id": "ca554059-44c8-4abe-98a7-3cba3607c68a",
   "metadata": {},
   "outputs": [
    {
     "data": {
      "text/html": [
       "<div>\n",
       "<style scoped>\n",
       "    .dataframe tbody tr th:only-of-type {\n",
       "        vertical-align: middle;\n",
       "    }\n",
       "\n",
       "    .dataframe tbody tr th {\n",
       "        vertical-align: top;\n",
       "    }\n",
       "\n",
       "    .dataframe thead th {\n",
       "        text-align: right;\n",
       "    }\n",
       "</style>\n",
       "<table border=\"1\" class=\"dataframe\">\n",
       "  <thead>\n",
       "    <tr style=\"text-align: right;\">\n",
       "      <th></th>\n",
       "      <th>종사자수</th>\n",
       "      <th>거주인구수</th>\n",
       "      <th>거치대수</th>\n",
       "    </tr>\n",
       "    <tr>\n",
       "      <th>지하철역</th>\n",
       "      <th></th>\n",
       "      <th></th>\n",
       "      <th></th>\n",
       "    </tr>\n",
       "  </thead>\n",
       "  <tbody>\n",
       "    <tr>\n",
       "      <th>화곡</th>\n",
       "      <td>21436</td>\n",
       "      <td>121043</td>\n",
       "      <td>53.0</td>\n",
       "    </tr>\n",
       "    <tr>\n",
       "      <th>까치산</th>\n",
       "      <td>20138</td>\n",
       "      <td>119443</td>\n",
       "      <td>30.0</td>\n",
       "    </tr>\n",
       "    <tr>\n",
       "      <th>봉천</th>\n",
       "      <td>27624</td>\n",
       "      <td>118550</td>\n",
       "      <td>69.0</td>\n",
       "    </tr>\n",
       "    <tr>\n",
       "      <th>길동</th>\n",
       "      <td>40240</td>\n",
       "      <td>117367</td>\n",
       "      <td>20.0</td>\n",
       "    </tr>\n",
       "    <tr>\n",
       "      <th>응암</th>\n",
       "      <td>25290</td>\n",
       "      <td>115789</td>\n",
       "      <td>30.0</td>\n",
       "    </tr>\n",
       "  </tbody>\n",
       "</table>\n",
       "</div>"
      ],
      "text/plain": [
       "       종사자수   거주인구수  거치대수\n",
       "지하철역                     \n",
       "화곡    21436  121043  53.0\n",
       "까치산   20138  119443  30.0\n",
       "봉천    27624  118550  69.0\n",
       "길동    40240  117367  20.0\n",
       "응암    25290  115789  30.0"
      ]
     },
     "execution_count": 72,
     "metadata": {},
     "output_type": "execute_result"
    }
   ],
   "source": [
    "ds_balance.head()"
   ]
  },
  {
   "cell_type": "code",
   "execution_count": 82,
   "id": "9348c195-9efe-463e-a0e1-a597e796bd99",
   "metadata": {},
   "outputs": [],
   "source": [
    "ds_balance.to_csv(\"./data/역별_종사자수_거주인구수_거치대수.csv\")"
   ]
  },
  {
   "cell_type": "code",
   "execution_count": 106,
   "id": "1981676f-6e67-4210-b8c6-e64c6f8086a9",
   "metadata": {},
   "outputs": [],
   "source": [
    "ds_balance = pd.read_csv(\"./data/역별_종사자수_거주인구수_거치대수.csv\")"
   ]
  },
  {
   "cell_type": "code",
   "execution_count": 107,
   "id": "61f49065-8ddf-45ae-b5df-0ec4925b2f55",
   "metadata": {},
   "outputs": [
    {
     "data": {
      "text/html": [
       "<div>\n",
       "<style scoped>\n",
       "    .dataframe tbody tr th:only-of-type {\n",
       "        vertical-align: middle;\n",
       "    }\n",
       "\n",
       "    .dataframe tbody tr th {\n",
       "        vertical-align: top;\n",
       "    }\n",
       "\n",
       "    .dataframe thead th {\n",
       "        text-align: right;\n",
       "    }\n",
       "</style>\n",
       "<table border=\"1\" class=\"dataframe\">\n",
       "  <thead>\n",
       "    <tr style=\"text-align: right;\">\n",
       "      <th></th>\n",
       "      <th>지하철역</th>\n",
       "      <th>종사자수</th>\n",
       "      <th>거주인구수</th>\n",
       "      <th>거치대수</th>\n",
       "    </tr>\n",
       "  </thead>\n",
       "  <tbody>\n",
       "    <tr>\n",
       "      <th>0</th>\n",
       "      <td>화곡</td>\n",
       "      <td>21436</td>\n",
       "      <td>121043</td>\n",
       "      <td>53.0</td>\n",
       "    </tr>\n",
       "    <tr>\n",
       "      <th>1</th>\n",
       "      <td>까치산</td>\n",
       "      <td>20138</td>\n",
       "      <td>119443</td>\n",
       "      <td>30.0</td>\n",
       "    </tr>\n",
       "    <tr>\n",
       "      <th>2</th>\n",
       "      <td>봉천</td>\n",
       "      <td>27624</td>\n",
       "      <td>118550</td>\n",
       "      <td>69.0</td>\n",
       "    </tr>\n",
       "    <tr>\n",
       "      <th>3</th>\n",
       "      <td>길동</td>\n",
       "      <td>40240</td>\n",
       "      <td>117367</td>\n",
       "      <td>20.0</td>\n",
       "    </tr>\n",
       "    <tr>\n",
       "      <th>4</th>\n",
       "      <td>응암</td>\n",
       "      <td>25290</td>\n",
       "      <td>115789</td>\n",
       "      <td>30.0</td>\n",
       "    </tr>\n",
       "  </tbody>\n",
       "</table>\n",
       "</div>"
      ],
      "text/plain": [
       "  지하철역   종사자수   거주인구수  거치대수\n",
       "0   화곡  21436  121043  53.0\n",
       "1  까치산  20138  119443  30.0\n",
       "2   봉천  27624  118550  69.0\n",
       "3   길동  40240  117367  20.0\n",
       "4   응암  25290  115789  30.0"
      ]
     },
     "execution_count": 107,
     "metadata": {},
     "output_type": "execute_result"
    }
   ],
   "source": [
    "ds_balance.head()"
   ]
  },
  {
   "cell_type": "code",
   "execution_count": 108,
   "id": "15d09c44-bd92-48dc-b4b5-3ab9f7112211",
   "metadata": {},
   "outputs": [],
   "source": [
    "# 출근시간대 적정 따릉이수 컬럼\n",
    "# 24년 지하철 이용비율: 30% (24년 기사)\n",
    "ds_balance[\"출근_적정따릉이수\"] = round(ds_balance[\"종사자수\"] * 0.3 * 0.01)"
   ]
  },
  {
   "cell_type": "code",
   "execution_count": 109,
   "id": "ea9a60b0-4a89-4260-97db-ffd4ca7adaaa",
   "metadata": {},
   "outputs": [
    {
     "data": {
      "text/html": [
       "<div>\n",
       "<style scoped>\n",
       "    .dataframe tbody tr th:only-of-type {\n",
       "        vertical-align: middle;\n",
       "    }\n",
       "\n",
       "    .dataframe tbody tr th {\n",
       "        vertical-align: top;\n",
       "    }\n",
       "\n",
       "    .dataframe thead th {\n",
       "        text-align: right;\n",
       "    }\n",
       "</style>\n",
       "<table border=\"1\" class=\"dataframe\">\n",
       "  <thead>\n",
       "    <tr style=\"text-align: right;\">\n",
       "      <th></th>\n",
       "      <th>지하철역</th>\n",
       "      <th>종사자수</th>\n",
       "      <th>거주인구수</th>\n",
       "      <th>거치대수</th>\n",
       "      <th>출근_적정따릉이수</th>\n",
       "    </tr>\n",
       "  </thead>\n",
       "  <tbody>\n",
       "    <tr>\n",
       "      <th>0</th>\n",
       "      <td>화곡</td>\n",
       "      <td>21436</td>\n",
       "      <td>121043</td>\n",
       "      <td>53.0</td>\n",
       "      <td>64.0</td>\n",
       "    </tr>\n",
       "    <tr>\n",
       "      <th>1</th>\n",
       "      <td>까치산</td>\n",
       "      <td>20138</td>\n",
       "      <td>119443</td>\n",
       "      <td>30.0</td>\n",
       "      <td>60.0</td>\n",
       "    </tr>\n",
       "    <tr>\n",
       "      <th>2</th>\n",
       "      <td>봉천</td>\n",
       "      <td>27624</td>\n",
       "      <td>118550</td>\n",
       "      <td>69.0</td>\n",
       "      <td>83.0</td>\n",
       "    </tr>\n",
       "    <tr>\n",
       "      <th>3</th>\n",
       "      <td>길동</td>\n",
       "      <td>40240</td>\n",
       "      <td>117367</td>\n",
       "      <td>20.0</td>\n",
       "      <td>121.0</td>\n",
       "    </tr>\n",
       "    <tr>\n",
       "      <th>4</th>\n",
       "      <td>응암</td>\n",
       "      <td>25290</td>\n",
       "      <td>115789</td>\n",
       "      <td>30.0</td>\n",
       "      <td>76.0</td>\n",
       "    </tr>\n",
       "  </tbody>\n",
       "</table>\n",
       "</div>"
      ],
      "text/plain": [
       "  지하철역   종사자수   거주인구수  거치대수  출근_적정따릉이수\n",
       "0   화곡  21436  121043  53.0       64.0\n",
       "1  까치산  20138  119443  30.0       60.0\n",
       "2   봉천  27624  118550  69.0       83.0\n",
       "3   길동  40240  117367  20.0      121.0\n",
       "4   응암  25290  115789  30.0       76.0"
      ]
     },
     "execution_count": 109,
     "metadata": {},
     "output_type": "execute_result"
    }
   ],
   "source": [
    "ds_balance.head()"
   ]
  },
  {
   "cell_type": "code",
   "execution_count": 111,
   "id": "51ebf2bb-d686-462a-b6ce-e2afc37c54b5",
   "metadata": {},
   "outputs": [
    {
     "data": {
      "text/plain": [
       "265"
      ]
     },
     "execution_count": 111,
     "metadata": {},
     "output_type": "execute_result"
    }
   ],
   "source": [
    "(ds_balance[\"거치대수\"] < ds_balance[\"출근_적정따릉이수\"]).sum()"
   ]
  },
  {
   "cell_type": "code",
   "execution_count": 112,
   "id": "b8640ffc-6f01-4d1f-8242-ad5fb4c36903",
   "metadata": {},
   "outputs": [
    {
     "data": {
      "text/plain": [
       "52"
      ]
     },
     "execution_count": 112,
     "metadata": {},
     "output_type": "execute_result"
    }
   ],
   "source": [
    "# 공급적정\n",
    "(abs(ds_balance[\"거치대수\"] - ds_balance[\"출근_적정따릉이수\"]) <= ds_balance[\"출근_적정따릉이수\"] * 0.25).sum()"
   ]
  },
  {
   "cell_type": "code",
   "execution_count": 124,
   "id": "123944bb-e02c-4cbe-8408-828861a515e3",
   "metadata": {},
   "outputs": [],
   "source": [
    "ds_balance_lst = []\n",
    "for i in range(len(ds_balance)):\n",
    "    # 공급부족\n",
    "    if (ds_balance.iloc[i][\"출근_적정따릉이수\"] - ds_balance.iloc[i][\"거치대수\"] > ds_balance.iloc[i][\"출근_적정따릉이수\"] * 0.25):\n",
    "        ds_balance_lst.append(\"공급부족\")\n",
    "    elif ds_balance.iloc[i][\"거치대수\"] - ds_balance.iloc[i][\"출근_적정따릉이수\"] > ds_balance.iloc[i][\"출근_적정따릉이수\"] * 0.25:\n",
    "        ds_balance_lst.append(\"공급과잉\")\n",
    "    else:\n",
    "        ds_balance_lst.append(\"공급적정\")        \n"
   ]
  },
  {
   "cell_type": "code",
   "execution_count": 129,
   "id": "22e6472f-91b6-4b4d-a0b4-1c40c7251803",
   "metadata": {},
   "outputs": [],
   "source": [
    "ds_balance[\"출근_수요공급균형\"] = ds_balance_lst"
   ]
  },
  {
   "cell_type": "code",
   "execution_count": 130,
   "id": "d53dde61-b302-4ba9-9936-99240b729f35",
   "metadata": {},
   "outputs": [
    {
     "data": {
      "text/html": [
       "<div>\n",
       "<style scoped>\n",
       "    .dataframe tbody tr th:only-of-type {\n",
       "        vertical-align: middle;\n",
       "    }\n",
       "\n",
       "    .dataframe tbody tr th {\n",
       "        vertical-align: top;\n",
       "    }\n",
       "\n",
       "    .dataframe thead th {\n",
       "        text-align: right;\n",
       "    }\n",
       "</style>\n",
       "<table border=\"1\" class=\"dataframe\">\n",
       "  <thead>\n",
       "    <tr style=\"text-align: right;\">\n",
       "      <th></th>\n",
       "      <th>지하철역</th>\n",
       "      <th>종사자수</th>\n",
       "      <th>거주인구수</th>\n",
       "      <th>거치대수</th>\n",
       "      <th>출근_적정따릉이수</th>\n",
       "      <th>퇴근_적정따릉이수</th>\n",
       "      <th>수요공급균형</th>\n",
       "      <th>출근_수요공급균형</th>\n",
       "    </tr>\n",
       "  </thead>\n",
       "  <tbody>\n",
       "    <tr>\n",
       "      <th>0</th>\n",
       "      <td>화곡</td>\n",
       "      <td>21436</td>\n",
       "      <td>121043</td>\n",
       "      <td>53.0</td>\n",
       "      <td>64.0</td>\n",
       "      <td>42.0</td>\n",
       "      <td>공급적정</td>\n",
       "      <td>공급적정</td>\n",
       "    </tr>\n",
       "    <tr>\n",
       "      <th>1</th>\n",
       "      <td>까치산</td>\n",
       "      <td>20138</td>\n",
       "      <td>119443</td>\n",
       "      <td>30.0</td>\n",
       "      <td>60.0</td>\n",
       "      <td>39.0</td>\n",
       "      <td>공급부족</td>\n",
       "      <td>공급부족</td>\n",
       "    </tr>\n",
       "    <tr>\n",
       "      <th>2</th>\n",
       "      <td>봉천</td>\n",
       "      <td>27624</td>\n",
       "      <td>118550</td>\n",
       "      <td>69.0</td>\n",
       "      <td>83.0</td>\n",
       "      <td>54.0</td>\n",
       "      <td>공급적정</td>\n",
       "      <td>공급적정</td>\n",
       "    </tr>\n",
       "    <tr>\n",
       "      <th>3</th>\n",
       "      <td>길동</td>\n",
       "      <td>40240</td>\n",
       "      <td>117367</td>\n",
       "      <td>20.0</td>\n",
       "      <td>121.0</td>\n",
       "      <td>78.0</td>\n",
       "      <td>공급부족</td>\n",
       "      <td>공급부족</td>\n",
       "    </tr>\n",
       "    <tr>\n",
       "      <th>4</th>\n",
       "      <td>응암</td>\n",
       "      <td>25290</td>\n",
       "      <td>115789</td>\n",
       "      <td>30.0</td>\n",
       "      <td>76.0</td>\n",
       "      <td>49.0</td>\n",
       "      <td>공급부족</td>\n",
       "      <td>공급부족</td>\n",
       "    </tr>\n",
       "  </tbody>\n",
       "</table>\n",
       "</div>"
      ],
      "text/plain": [
       "  지하철역   종사자수   거주인구수  거치대수  출근_적정따릉이수  퇴근_적정따릉이수 수요공급균형 출근_수요공급균형\n",
       "0   화곡  21436  121043  53.0       64.0       42.0   공급적정      공급적정\n",
       "1  까치산  20138  119443  30.0       60.0       39.0   공급부족      공급부족\n",
       "2   봉천  27624  118550  69.0       83.0       54.0   공급적정      공급적정\n",
       "3   길동  40240  117367  20.0      121.0       78.0   공급부족      공급부족\n",
       "4   응암  25290  115789  30.0       76.0       49.0   공급부족      공급부족"
      ]
     },
     "execution_count": 130,
     "metadata": {},
     "output_type": "execute_result"
    }
   ],
   "source": [
    "ds_balance.head()"
   ]
  },
  {
   "cell_type": "code",
   "execution_count": 132,
   "id": "55bf2328-f514-4cdc-8d93-a06f6bbc0190",
   "metadata": {},
   "outputs": [],
   "source": [
    "ds_balance = ds_balance.drop(\"수요공급균형\", axis = 1)"
   ]
  },
  {
   "cell_type": "code",
   "execution_count": 113,
   "id": "0cf9b2e4-c26e-480a-89b0-9137f7d83cec",
   "metadata": {},
   "outputs": [
    {
     "data": {
      "text/plain": [
       "16"
      ]
     },
     "execution_count": 113,
     "metadata": {},
     "output_type": "execute_result"
    }
   ],
   "source": [
    "# 공급과잉\n",
    "(ds_balance[\"거치대수\"] - ds_balance[\"출근_적정따릉이수\"] > ds_balance[\"출근_적정따릉이수\"] * 0.25).sum()"
   ]
  },
  {
   "cell_type": "code",
   "execution_count": 114,
   "id": "be0f721e-fcea-4cc0-887b-a24808d4d643",
   "metadata": {},
   "outputs": [
    {
     "data": {
      "text/plain": [
       "231"
      ]
     },
     "execution_count": 114,
     "metadata": {},
     "output_type": "execute_result"
    }
   ],
   "source": [
    "# 공급부족\n",
    "(ds_balance[\"출근_적정따릉이수\"] - ds_balance[\"거치대수\"] > ds_balance[\"출근_적정따릉이수\"] * 0.25).sum()"
   ]
  },
  {
   "cell_type": "code",
   "execution_count": 115,
   "id": "e7e57729-19b7-4679-9459-d53b7b79711e",
   "metadata": {},
   "outputs": [],
   "source": [
    "# 퇴근시간대 적정 따릉이수 컬럼\n",
    "# 24년 경제활동인구비율 통계: 65%, 지하철 이용비율: 30%\n",
    "ds_balance[\"퇴근_적정따릉이수\"] = round(ds_balance[\"종사자수\"] * 0.65 * 0.3 * 0.01)"
   ]
  },
  {
   "cell_type": "code",
   "execution_count": 116,
   "id": "42c5099b-63c9-4ba5-a127-7e35583c4a86",
   "metadata": {},
   "outputs": [
    {
     "data": {
      "text/html": [
       "<div>\n",
       "<style scoped>\n",
       "    .dataframe tbody tr th:only-of-type {\n",
       "        vertical-align: middle;\n",
       "    }\n",
       "\n",
       "    .dataframe tbody tr th {\n",
       "        vertical-align: top;\n",
       "    }\n",
       "\n",
       "    .dataframe thead th {\n",
       "        text-align: right;\n",
       "    }\n",
       "</style>\n",
       "<table border=\"1\" class=\"dataframe\">\n",
       "  <thead>\n",
       "    <tr style=\"text-align: right;\">\n",
       "      <th></th>\n",
       "      <th>지하철역</th>\n",
       "      <th>종사자수</th>\n",
       "      <th>거주인구수</th>\n",
       "      <th>거치대수</th>\n",
       "      <th>출근_적정따릉이수</th>\n",
       "      <th>퇴근_적정따릉이수</th>\n",
       "    </tr>\n",
       "  </thead>\n",
       "  <tbody>\n",
       "    <tr>\n",
       "      <th>0</th>\n",
       "      <td>화곡</td>\n",
       "      <td>21436</td>\n",
       "      <td>121043</td>\n",
       "      <td>53.0</td>\n",
       "      <td>64.0</td>\n",
       "      <td>42.0</td>\n",
       "    </tr>\n",
       "    <tr>\n",
       "      <th>1</th>\n",
       "      <td>까치산</td>\n",
       "      <td>20138</td>\n",
       "      <td>119443</td>\n",
       "      <td>30.0</td>\n",
       "      <td>60.0</td>\n",
       "      <td>39.0</td>\n",
       "    </tr>\n",
       "    <tr>\n",
       "      <th>2</th>\n",
       "      <td>봉천</td>\n",
       "      <td>27624</td>\n",
       "      <td>118550</td>\n",
       "      <td>69.0</td>\n",
       "      <td>83.0</td>\n",
       "      <td>54.0</td>\n",
       "    </tr>\n",
       "    <tr>\n",
       "      <th>3</th>\n",
       "      <td>길동</td>\n",
       "      <td>40240</td>\n",
       "      <td>117367</td>\n",
       "      <td>20.0</td>\n",
       "      <td>121.0</td>\n",
       "      <td>78.0</td>\n",
       "    </tr>\n",
       "    <tr>\n",
       "      <th>4</th>\n",
       "      <td>응암</td>\n",
       "      <td>25290</td>\n",
       "      <td>115789</td>\n",
       "      <td>30.0</td>\n",
       "      <td>76.0</td>\n",
       "      <td>49.0</td>\n",
       "    </tr>\n",
       "  </tbody>\n",
       "</table>\n",
       "</div>"
      ],
      "text/plain": [
       "  지하철역   종사자수   거주인구수  거치대수  출근_적정따릉이수  퇴근_적정따릉이수\n",
       "0   화곡  21436  121043  53.0       64.0       42.0\n",
       "1  까치산  20138  119443  30.0       60.0       39.0\n",
       "2   봉천  27624  118550  69.0       83.0       54.0\n",
       "3   길동  40240  117367  20.0      121.0       78.0\n",
       "4   응암  25290  115789  30.0       76.0       49.0"
      ]
     },
     "execution_count": 116,
     "metadata": {},
     "output_type": "execute_result"
    }
   ],
   "source": [
    "ds_balance.head()"
   ]
  },
  {
   "cell_type": "code",
   "execution_count": 133,
   "id": "6057bf1d-32af-40bd-bbad-322694922053",
   "metadata": {},
   "outputs": [],
   "source": [
    "ds_balance_lst = []\n",
    "for i in range(len(ds_balance)):\n",
    "    # 공급부족\n",
    "    if (ds_balance.iloc[i][\"퇴근_적정따릉이수\"] - ds_balance.iloc[i][\"거치대수\"] > ds_balance.iloc[i][\"퇴근_적정따릉이수\"] * 0.25):\n",
    "        ds_balance_lst.append(\"공급부족\")\n",
    "    elif ds_balance.iloc[i][\"거치대수\"] - ds_balance.iloc[i][\"퇴근_적정따릉이수\"] > ds_balance.iloc[i][\"퇴근_적정따릉이수\"] * 0.25:\n",
    "        ds_balance_lst.append(\"공급과잉\")\n",
    "    else:\n",
    "        ds_balance_lst.append(\"공급적정\")    "
   ]
  },
  {
   "cell_type": "code",
   "execution_count": 134,
   "id": "2a7a86fd-9cff-4802-bc86-72d387ded0bc",
   "metadata": {},
   "outputs": [],
   "source": [
    "ds_balance[\"퇴근_수요공급균형\"] = ds_balance_lst"
   ]
  },
  {
   "cell_type": "code",
   "execution_count": 135,
   "id": "5329cfe6-9c3b-4b1a-aa2e-90e20cfe41a9",
   "metadata": {},
   "outputs": [
    {
     "data": {
      "text/html": [
       "<div>\n",
       "<style scoped>\n",
       "    .dataframe tbody tr th:only-of-type {\n",
       "        vertical-align: middle;\n",
       "    }\n",
       "\n",
       "    .dataframe tbody tr th {\n",
       "        vertical-align: top;\n",
       "    }\n",
       "\n",
       "    .dataframe thead th {\n",
       "        text-align: right;\n",
       "    }\n",
       "</style>\n",
       "<table border=\"1\" class=\"dataframe\">\n",
       "  <thead>\n",
       "    <tr style=\"text-align: right;\">\n",
       "      <th></th>\n",
       "      <th>지하철역</th>\n",
       "      <th>종사자수</th>\n",
       "      <th>거주인구수</th>\n",
       "      <th>거치대수</th>\n",
       "      <th>출근_적정따릉이수</th>\n",
       "      <th>퇴근_적정따릉이수</th>\n",
       "      <th>출근_수요공급균형</th>\n",
       "      <th>퇴근_수요공급균형</th>\n",
       "    </tr>\n",
       "  </thead>\n",
       "  <tbody>\n",
       "    <tr>\n",
       "      <th>0</th>\n",
       "      <td>화곡</td>\n",
       "      <td>21436</td>\n",
       "      <td>121043</td>\n",
       "      <td>53.0</td>\n",
       "      <td>64.0</td>\n",
       "      <td>42.0</td>\n",
       "      <td>공급적정</td>\n",
       "      <td>공급과잉</td>\n",
       "    </tr>\n",
       "    <tr>\n",
       "      <th>1</th>\n",
       "      <td>까치산</td>\n",
       "      <td>20138</td>\n",
       "      <td>119443</td>\n",
       "      <td>30.0</td>\n",
       "      <td>60.0</td>\n",
       "      <td>39.0</td>\n",
       "      <td>공급부족</td>\n",
       "      <td>공급적정</td>\n",
       "    </tr>\n",
       "    <tr>\n",
       "      <th>2</th>\n",
       "      <td>봉천</td>\n",
       "      <td>27624</td>\n",
       "      <td>118550</td>\n",
       "      <td>69.0</td>\n",
       "      <td>83.0</td>\n",
       "      <td>54.0</td>\n",
       "      <td>공급적정</td>\n",
       "      <td>공급과잉</td>\n",
       "    </tr>\n",
       "    <tr>\n",
       "      <th>3</th>\n",
       "      <td>길동</td>\n",
       "      <td>40240</td>\n",
       "      <td>117367</td>\n",
       "      <td>20.0</td>\n",
       "      <td>121.0</td>\n",
       "      <td>78.0</td>\n",
       "      <td>공급부족</td>\n",
       "      <td>공급부족</td>\n",
       "    </tr>\n",
       "    <tr>\n",
       "      <th>4</th>\n",
       "      <td>응암</td>\n",
       "      <td>25290</td>\n",
       "      <td>115789</td>\n",
       "      <td>30.0</td>\n",
       "      <td>76.0</td>\n",
       "      <td>49.0</td>\n",
       "      <td>공급부족</td>\n",
       "      <td>공급부족</td>\n",
       "    </tr>\n",
       "  </tbody>\n",
       "</table>\n",
       "</div>"
      ],
      "text/plain": [
       "  지하철역   종사자수   거주인구수  거치대수  출근_적정따릉이수  퇴근_적정따릉이수 출근_수요공급균형 퇴근_수요공급균형\n",
       "0   화곡  21436  121043  53.0       64.0       42.0      공급적정      공급과잉\n",
       "1  까치산  20138  119443  30.0       60.0       39.0      공급부족      공급적정\n",
       "2   봉천  27624  118550  69.0       83.0       54.0      공급적정      공급과잉\n",
       "3   길동  40240  117367  20.0      121.0       78.0      공급부족      공급부족\n",
       "4   응암  25290  115789  30.0       76.0       49.0      공급부족      공급부족"
      ]
     },
     "execution_count": 135,
     "metadata": {},
     "output_type": "execute_result"
    }
   ],
   "source": [
    "ds_balance.head()"
   ]
  },
  {
   "cell_type": "code",
   "execution_count": 117,
   "id": "26a70f0d-4680-40b3-b5b4-14a31db2e6d5",
   "metadata": {},
   "outputs": [
    {
     "data": {
      "text/plain": [
       "78"
      ]
     },
     "execution_count": 117,
     "metadata": {},
     "output_type": "execute_result"
    }
   ],
   "source": [
    "# 공급적정\n",
    "((abs(ds_balance[\"거치대수\"] - ds_balance[\"퇴근_적정따릉이수\"]) <= ds_balance[\"퇴근_적정따릉이수\"] * 0.25)).sum()"
   ]
  },
  {
   "cell_type": "code",
   "execution_count": 118,
   "id": "06e5798a-efe0-4456-afb8-90828c20f956",
   "metadata": {},
   "outputs": [
    {
     "data": {
      "text/plain": [
       "55"
      ]
     },
     "execution_count": 118,
     "metadata": {},
     "output_type": "execute_result"
    }
   ],
   "source": [
    "# 공급과잉\n",
    "(ds_balance[\"거치대수\"] - ds_balance[\"퇴근_적정따릉이수\"] > ds_balance[\"퇴근_적정따릉이수\"] * 0.25).sum()"
   ]
  },
  {
   "cell_type": "code",
   "execution_count": 119,
   "id": "ae714454-1da8-4247-98e8-dec1586acd36",
   "metadata": {},
   "outputs": [
    {
     "data": {
      "text/plain": [
       "166"
      ]
     },
     "execution_count": 119,
     "metadata": {},
     "output_type": "execute_result"
    }
   ],
   "source": [
    "# 공급부족\n",
    "(ds_balance[\"퇴근_적정따릉이수\"] - ds_balance[\"거치대수\"] > ds_balance[\"퇴근_적정따릉이수\"] * 0.25).sum()"
   ]
  },
  {
   "cell_type": "code",
   "execution_count": 136,
   "id": "b15a1ed1-23bb-4c7c-a979-24112c2dfe93",
   "metadata": {},
   "outputs": [],
   "source": [
    "ds_balance.to_csv(\"./data/출퇴근따릉이_수요공급균형.csv\")"
   ]
  },
  {
   "cell_type": "code",
   "execution_count": 4,
   "id": "e5980aa6-5f79-45fc-a443-775b9a266c2d",
   "metadata": {},
   "outputs": [],
   "source": [
    "ds_balance = pd.read_csv(\"./data/따릉이_수요공급/출퇴근따릉이_수요공급균형.csv\")"
   ]
  },
  {
   "cell_type": "code",
   "execution_count": 5,
   "id": "68cb4c3e-4257-4c91-8090-7a2ccaa7d270",
   "metadata": {
    "scrolled": true
   },
   "outputs": [
    {
     "data": {
      "text/html": [
       "<div>\n",
       "<style scoped>\n",
       "    .dataframe tbody tr th:only-of-type {\n",
       "        vertical-align: middle;\n",
       "    }\n",
       "\n",
       "    .dataframe tbody tr th {\n",
       "        vertical-align: top;\n",
       "    }\n",
       "\n",
       "    .dataframe thead th {\n",
       "        text-align: right;\n",
       "    }\n",
       "</style>\n",
       "<table border=\"1\" class=\"dataframe\">\n",
       "  <thead>\n",
       "    <tr style=\"text-align: right;\">\n",
       "      <th></th>\n",
       "      <th>Unnamed: 0</th>\n",
       "      <th>지하철역</th>\n",
       "      <th>종사자수</th>\n",
       "      <th>거주인구수</th>\n",
       "      <th>거치대수</th>\n",
       "      <th>출근_적정따릉이수</th>\n",
       "      <th>퇴근_적정따릉이수</th>\n",
       "      <th>출근_수요공급균형</th>\n",
       "      <th>퇴근_수요공급균형</th>\n",
       "    </tr>\n",
       "  </thead>\n",
       "  <tbody>\n",
       "    <tr>\n",
       "      <th>0</th>\n",
       "      <td>0</td>\n",
       "      <td>화곡</td>\n",
       "      <td>21436</td>\n",
       "      <td>121043</td>\n",
       "      <td>53.0</td>\n",
       "      <td>64.0</td>\n",
       "      <td>42.0</td>\n",
       "      <td>공급적정</td>\n",
       "      <td>공급과잉</td>\n",
       "    </tr>\n",
       "    <tr>\n",
       "      <th>1</th>\n",
       "      <td>1</td>\n",
       "      <td>까치산</td>\n",
       "      <td>20138</td>\n",
       "      <td>119443</td>\n",
       "      <td>30.0</td>\n",
       "      <td>60.0</td>\n",
       "      <td>39.0</td>\n",
       "      <td>공급부족</td>\n",
       "      <td>공급적정</td>\n",
       "    </tr>\n",
       "    <tr>\n",
       "      <th>2</th>\n",
       "      <td>2</td>\n",
       "      <td>봉천</td>\n",
       "      <td>27624</td>\n",
       "      <td>118550</td>\n",
       "      <td>69.0</td>\n",
       "      <td>83.0</td>\n",
       "      <td>54.0</td>\n",
       "      <td>공급적정</td>\n",
       "      <td>공급과잉</td>\n",
       "    </tr>\n",
       "    <tr>\n",
       "      <th>3</th>\n",
       "      <td>3</td>\n",
       "      <td>길동</td>\n",
       "      <td>40240</td>\n",
       "      <td>117367</td>\n",
       "      <td>20.0</td>\n",
       "      <td>121.0</td>\n",
       "      <td>78.0</td>\n",
       "      <td>공급부족</td>\n",
       "      <td>공급부족</td>\n",
       "    </tr>\n",
       "    <tr>\n",
       "      <th>4</th>\n",
       "      <td>4</td>\n",
       "      <td>응암</td>\n",
       "      <td>25290</td>\n",
       "      <td>115789</td>\n",
       "      <td>30.0</td>\n",
       "      <td>76.0</td>\n",
       "      <td>49.0</td>\n",
       "      <td>공급부족</td>\n",
       "      <td>공급부족</td>\n",
       "    </tr>\n",
       "  </tbody>\n",
       "</table>\n",
       "</div>"
      ],
      "text/plain": [
       "   Unnamed: 0 지하철역   종사자수   거주인구수  거치대수  출근_적정따릉이수  퇴근_적정따릉이수 출근_수요공급균형  \\\n",
       "0           0   화곡  21436  121043  53.0       64.0       42.0      공급적정   \n",
       "1           1  까치산  20138  119443  30.0       60.0       39.0      공급부족   \n",
       "2           2   봉천  27624  118550  69.0       83.0       54.0      공급적정   \n",
       "3           3   길동  40240  117367  20.0      121.0       78.0      공급부족   \n",
       "4           4   응암  25290  115789  30.0       76.0       49.0      공급부족   \n",
       "\n",
       "  퇴근_수요공급균형  \n",
       "0      공급과잉  \n",
       "1      공급적정  \n",
       "2      공급과잉  \n",
       "3      공급부족  \n",
       "4      공급부족  "
      ]
     },
     "execution_count": 5,
     "metadata": {},
     "output_type": "execute_result"
    }
   ],
   "source": [
    "ds_balance.head()"
   ]
  },
  {
   "cell_type": "code",
   "execution_count": 10,
   "id": "a5db95ce-647a-4c81-9235-a4bbb87d620b",
   "metadata": {},
   "outputs": [
    {
     "data": {
      "text/plain": [
       "(5, 5)"
      ]
     },
     "execution_count": 10,
     "metadata": {},
     "output_type": "execute_result"
    }
   ],
   "source": [
    "go.shape"
   ]
  },
  {
   "cell_type": "code",
   "execution_count": 11,
   "id": "027e31d0-ca8f-479f-bb7b-de0892176402",
   "metadata": {},
   "outputs": [],
   "source": [
    "go = ds_balance[[\"지하철역\", \"종사자수\", \"거치대수\", \"출근_적정따릉이수\", \"출근_수요공급균형\"]]"
   ]
  },
  {
   "cell_type": "code",
   "execution_count": 35,
   "id": "c19bb457-70e6-482b-85b0-4e00148ddf02",
   "metadata": {},
   "outputs": [],
   "source": [
    "leave = ds_balance[[\"지하철역\", \"거주인구수\", \"거치대수\", \"퇴근_적정따릉이수\", \"퇴근_수요공급균형\"]]"
   ]
  },
  {
   "cell_type": "code",
   "execution_count": 36,
   "id": "1edbef69-7852-41fd-9fb7-71526e6c3ba7",
   "metadata": {},
   "outputs": [
    {
     "data": {
      "text/html": [
       "<div>\n",
       "<style scoped>\n",
       "    .dataframe tbody tr th:only-of-type {\n",
       "        vertical-align: middle;\n",
       "    }\n",
       "\n",
       "    .dataframe tbody tr th {\n",
       "        vertical-align: top;\n",
       "    }\n",
       "\n",
       "    .dataframe thead th {\n",
       "        text-align: right;\n",
       "    }\n",
       "</style>\n",
       "<table border=\"1\" class=\"dataframe\">\n",
       "  <thead>\n",
       "    <tr style=\"text-align: right;\">\n",
       "      <th></th>\n",
       "      <th>지하철역</th>\n",
       "      <th>거주인구수</th>\n",
       "      <th>거치대수</th>\n",
       "      <th>퇴근_적정따릉이수</th>\n",
       "      <th>퇴근_수요공급균형</th>\n",
       "    </tr>\n",
       "  </thead>\n",
       "  <tbody>\n",
       "    <tr>\n",
       "      <th>0</th>\n",
       "      <td>화곡</td>\n",
       "      <td>121043</td>\n",
       "      <td>53.0</td>\n",
       "      <td>42.0</td>\n",
       "      <td>공급과잉</td>\n",
       "    </tr>\n",
       "    <tr>\n",
       "      <th>1</th>\n",
       "      <td>까치산</td>\n",
       "      <td>119443</td>\n",
       "      <td>30.0</td>\n",
       "      <td>39.0</td>\n",
       "      <td>공급적정</td>\n",
       "    </tr>\n",
       "    <tr>\n",
       "      <th>2</th>\n",
       "      <td>봉천</td>\n",
       "      <td>118550</td>\n",
       "      <td>69.0</td>\n",
       "      <td>54.0</td>\n",
       "      <td>공급과잉</td>\n",
       "    </tr>\n",
       "    <tr>\n",
       "      <th>3</th>\n",
       "      <td>길동</td>\n",
       "      <td>117367</td>\n",
       "      <td>20.0</td>\n",
       "      <td>78.0</td>\n",
       "      <td>공급부족</td>\n",
       "    </tr>\n",
       "    <tr>\n",
       "      <th>4</th>\n",
       "      <td>응암</td>\n",
       "      <td>115789</td>\n",
       "      <td>30.0</td>\n",
       "      <td>49.0</td>\n",
       "      <td>공급부족</td>\n",
       "    </tr>\n",
       "  </tbody>\n",
       "</table>\n",
       "</div>"
      ],
      "text/plain": [
       "  지하철역   거주인구수  거치대수  퇴근_적정따릉이수 퇴근_수요공급균형\n",
       "0   화곡  121043  53.0       42.0      공급과잉\n",
       "1  까치산  119443  30.0       39.0      공급적정\n",
       "2   봉천  118550  69.0       54.0      공급과잉\n",
       "3   길동  117367  20.0       78.0      공급부족\n",
       "4   응암  115789  30.0       49.0      공급부족"
      ]
     },
     "execution_count": 36,
     "metadata": {},
     "output_type": "execute_result"
    }
   ],
   "source": [
    "leave.head()"
   ]
  },
  {
   "cell_type": "code",
   "execution_count": 15,
   "id": "3f74c1b9-c6bb-4cc5-b179-a544a210d74a",
   "metadata": {},
   "outputs": [],
   "source": [
    "sr = go[\"출근_수요공급균형\"].value_counts()"
   ]
  },
  {
   "cell_type": "code",
   "execution_count": 28,
   "id": "2c72ec6e-0954-4726-bb2e-de8755e48f8f",
   "metadata": {},
   "outputs": [],
   "source": [
    "sr2 = leave[\"퇴근_수요공급균형\"].value_counts()"
   ]
  },
  {
   "cell_type": "code",
   "execution_count": 25,
   "id": "67febe01-dfbb-435c-9440-d868a5c3fda7",
   "metadata": {},
   "outputs": [
    {
     "data": {
      "text/plain": [
       "출근_수요공급균형\n",
       "공급부족    231\n",
       "공급적정     52\n",
       "공급과잉     16\n",
       "Name: count, dtype: int64"
      ]
     },
     "execution_count": 25,
     "metadata": {},
     "output_type": "execute_result"
    }
   ],
   "source": [
    "sr"
   ]
  },
  {
   "cell_type": "code",
   "execution_count": 29,
   "id": "d45a5d80-59fd-47d6-b345-2c678a6ba2ed",
   "metadata": {},
   "outputs": [
    {
     "data": {
      "text/plain": [
       "퇴근_수요공급균형\n",
       "공급부족    166\n",
       "공급적정     78\n",
       "공급과잉     55\n",
       "Name: count, dtype: int64"
      ]
     },
     "execution_count": 29,
     "metadata": {},
     "output_type": "execute_result"
    }
   ],
   "source": [
    "sr2"
   ]
  },
  {
   "cell_type": "code",
   "execution_count": 37,
   "id": "8e7b5d8d-fbfc-47c1-9329-d8eaaea9e3fd",
   "metadata": {},
   "outputs": [
    {
     "data": {
      "image/png": "[encoded data removed]",
      "text/plain": [
       "<Figure size 640x480 with 1 Axes>"
      ]
     },
     "metadata": {},
     "output_type": "display_data"
    }
   ],
   "source": [
    "sns.barplot(sr, color = \"g\")\n",
    "\n",
    "plt.ylim(0, 300)\n",
    "plt.grid()\n",
    "\n",
    "plt.show()"
   ]
  },
  {
   "cell_type": "code",
   "execution_count": 33,
   "id": "559c21dc-7cfc-4925-9753-26a979b9e5b2",
   "metadata": {},
   "outputs": [
    {
     "data": {
      "image/png": "[encoded data removed]",
      "text/plain": [
       "<Figure size 640x480 with 1 Axes>"
      ]
     },
     "metadata": {},
     "output_type": "display_data"
    }
   ],
   "source": [
    "sns.barplot(sr2, color = \"g\")\n",
    "\n",
    "plt.ylim(0, 200)\n",
    "\n",
    "plt.show()"
   ]
  },
  {
   "cell_type": "markdown",
   "id": "aa340e56-f41b-43df-b31b-c72938f6ec33",
   "metadata": {},
   "source": [
    "# 시각화\n",
    "\n",
    "- 공급적정, 부족, 과잉 비율\n",
    "\n",
    "- 공급과잉인 역 top 10 뽑기 (균형경계값과 거치대수 차이로)"
   ]
  },
  {
   "cell_type": "code",
   "execution_count": 3,
   "id": "e68cc3c0-a1ea-4c09-b1fc-f38c0cbf4c11",
   "metadata": {},
   "outputs": [],
   "source": [
    "df = pd.read_csv(\"./data/따릉이_수요공급/출퇴근따릉이_수요공급균형.csv\")"
   ]
  },
  {
   "cell_type": "code",
   "execution_count": 4,
   "id": "0361c717-02ba-4633-900b-e212cad025a3",
   "metadata": {},
   "outputs": [
    {
     "data": {
      "text/html": [
       "<div>\n",
       "<style scoped>\n",
       "    .dataframe tbody tr th:only-of-type {\n",
       "        vertical-align: middle;\n",
       "    }\n",
       "\n",
       "    .dataframe tbody tr th {\n",
       "        vertical-align: top;\n",
       "    }\n",
       "\n",
       "    .dataframe thead th {\n",
       "        text-align: right;\n",
       "    }\n",
       "</style>\n",
       "<table border=\"1\" class=\"dataframe\">\n",
       "  <thead>\n",
       "    <tr style=\"text-align: right;\">\n",
       "      <th></th>\n",
       "      <th>Unnamed: 0</th>\n",
       "      <th>지하철역</th>\n",
       "      <th>종사자수</th>\n",
       "      <th>거주인구수</th>\n",
       "      <th>거치대수</th>\n",
       "      <th>출근_적정따릉이수</th>\n",
       "      <th>퇴근_적정따릉이수</th>\n",
       "      <th>출근_수요공급균형</th>\n",
       "      <th>퇴근_수요공급균형</th>\n",
       "    </tr>\n",
       "  </thead>\n",
       "  <tbody>\n",
       "    <tr>\n",
       "      <th>0</th>\n",
       "      <td>0</td>\n",
       "      <td>화곡</td>\n",
       "      <td>21436</td>\n",
       "      <td>121043</td>\n",
       "      <td>53.0</td>\n",
       "      <td>64.0</td>\n",
       "      <td>42.0</td>\n",
       "      <td>공급적정</td>\n",
       "      <td>공급과잉</td>\n",
       "    </tr>\n",
       "    <tr>\n",
       "      <th>1</th>\n",
       "      <td>1</td>\n",
       "      <td>까치산</td>\n",
       "      <td>20138</td>\n",
       "      <td>119443</td>\n",
       "      <td>30.0</td>\n",
       "      <td>60.0</td>\n",
       "      <td>39.0</td>\n",
       "      <td>공급부족</td>\n",
       "      <td>공급적정</td>\n",
       "    </tr>\n",
       "    <tr>\n",
       "      <th>2</th>\n",
       "      <td>2</td>\n",
       "      <td>봉천</td>\n",
       "      <td>27624</td>\n",
       "      <td>118550</td>\n",
       "      <td>69.0</td>\n",
       "      <td>83.0</td>\n",
       "      <td>54.0</td>\n",
       "      <td>공급적정</td>\n",
       "      <td>공급과잉</td>\n",
       "    </tr>\n",
       "    <tr>\n",
       "      <th>3</th>\n",
       "      <td>3</td>\n",
       "      <td>길동</td>\n",
       "      <td>40240</td>\n",
       "      <td>117367</td>\n",
       "      <td>20.0</td>\n",
       "      <td>121.0</td>\n",
       "      <td>78.0</td>\n",
       "      <td>공급부족</td>\n",
       "      <td>공급부족</td>\n",
       "    </tr>\n",
       "    <tr>\n",
       "      <th>4</th>\n",
       "      <td>4</td>\n",
       "      <td>응암</td>\n",
       "      <td>25290</td>\n",
       "      <td>115789</td>\n",
       "      <td>30.0</td>\n",
       "      <td>76.0</td>\n",
       "      <td>49.0</td>\n",
       "      <td>공급부족</td>\n",
       "      <td>공급부족</td>\n",
       "    </tr>\n",
       "  </tbody>\n",
       "</table>\n",
       "</div>"
      ],
      "text/plain": [
       "   Unnamed: 0 지하철역   종사자수   거주인구수  거치대수  출근_적정따릉이수  퇴근_적정따릉이수 출근_수요공급균형  \\\n",
       "0           0   화곡  21436  121043  53.0       64.0       42.0      공급적정   \n",
       "1           1  까치산  20138  119443  30.0       60.0       39.0      공급부족   \n",
       "2           2   봉천  27624  118550  69.0       83.0       54.0      공급적정   \n",
       "3           3   길동  40240  117367  20.0      121.0       78.0      공급부족   \n",
       "4           4   응암  25290  115789  30.0       76.0       49.0      공급부족   \n",
       "\n",
       "  퇴근_수요공급균형  \n",
       "0      공급과잉  \n",
       "1      공급적정  \n",
       "2      공급과잉  \n",
       "3      공급부족  \n",
       "4      공급부족  "
      ]
     },
     "execution_count": 4,
     "metadata": {},
     "output_type": "execute_result"
    }
   ],
   "source": [
    "df.head()"
   ]
  },
  {
   "cell_type": "code",
   "execution_count": 5,
   "id": "9699dfce-a5e1-476a-b304-a31d3a68ec7a",
   "metadata": {},
   "outputs": [
    {
     "data": {
      "text/plain": [
       "Index(['Unnamed: 0', '지하철역', '종사자수', '거주인구수', '거치대수', '출근_적정따릉이수', '퇴근_적정따릉이수',\n",
       "       '출근_수요공급균형', '퇴근_수요공급균형'],\n",
       "      dtype='object')"
      ]
     },
     "execution_count": 5,
     "metadata": {},
     "output_type": "execute_result"
    }
   ],
   "source": [
    "df.columns"
   ]
  },
  {
   "cell_type": "code",
   "execution_count": 6,
   "id": "6b18a2f8-be33-4eb6-a043-00e67efc671f",
   "metadata": {},
   "outputs": [],
   "source": [
    "go = df[['지하철역', '종사자수','거치대수', '출근_적정따릉이수', '출근_수요공급균형']]"
   ]
  },
  {
   "cell_type": "code",
   "execution_count": 7,
   "id": "af37f31d-c6f9-4330-b568-c6362c85604b",
   "metadata": {},
   "outputs": [
    {
     "data": {
      "text/html": [
       "<div>\n",
       "<style scoped>\n",
       "    .dataframe tbody tr th:only-of-type {\n",
       "        vertical-align: middle;\n",
       "    }\n",
       "\n",
       "    .dataframe tbody tr th {\n",
       "        vertical-align: top;\n",
       "    }\n",
       "\n",
       "    .dataframe thead th {\n",
       "        text-align: right;\n",
       "    }\n",
       "</style>\n",
       "<table border=\"1\" class=\"dataframe\">\n",
       "  <thead>\n",
       "    <tr style=\"text-align: right;\">\n",
       "      <th></th>\n",
       "      <th>지하철역</th>\n",
       "      <th>종사자수</th>\n",
       "      <th>거치대수</th>\n",
       "      <th>출근_적정따릉이수</th>\n",
       "      <th>출근_수요공급균형</th>\n",
       "    </tr>\n",
       "  </thead>\n",
       "  <tbody>\n",
       "    <tr>\n",
       "      <th>0</th>\n",
       "      <td>화곡</td>\n",
       "      <td>21436</td>\n",
       "      <td>53.0</td>\n",
       "      <td>64.0</td>\n",
       "      <td>공급적정</td>\n",
       "    </tr>\n",
       "    <tr>\n",
       "      <th>1</th>\n",
       "      <td>까치산</td>\n",
       "      <td>20138</td>\n",
       "      <td>30.0</td>\n",
       "      <td>60.0</td>\n",
       "      <td>공급부족</td>\n",
       "    </tr>\n",
       "    <tr>\n",
       "      <th>2</th>\n",
       "      <td>봉천</td>\n",
       "      <td>27624</td>\n",
       "      <td>69.0</td>\n",
       "      <td>83.0</td>\n",
       "      <td>공급적정</td>\n",
       "    </tr>\n",
       "    <tr>\n",
       "      <th>3</th>\n",
       "      <td>길동</td>\n",
       "      <td>40240</td>\n",
       "      <td>20.0</td>\n",
       "      <td>121.0</td>\n",
       "      <td>공급부족</td>\n",
       "    </tr>\n",
       "    <tr>\n",
       "      <th>4</th>\n",
       "      <td>응암</td>\n",
       "      <td>25290</td>\n",
       "      <td>30.0</td>\n",
       "      <td>76.0</td>\n",
       "      <td>공급부족</td>\n",
       "    </tr>\n",
       "  </tbody>\n",
       "</table>\n",
       "</div>"
      ],
      "text/plain": [
       "  지하철역   종사자수  거치대수  출근_적정따릉이수 출근_수요공급균형\n",
       "0   화곡  21436  53.0       64.0      공급적정\n",
       "1  까치산  20138  30.0       60.0      공급부족\n",
       "2   봉천  27624  69.0       83.0      공급적정\n",
       "3   길동  40240  20.0      121.0      공급부족\n",
       "4   응암  25290  30.0       76.0      공급부족"
      ]
     },
     "execution_count": 7,
     "metadata": {},
     "output_type": "execute_result"
    }
   ],
   "source": [
    "go.head()"
   ]
  },
  {
   "cell_type": "code",
   "execution_count": 10,
   "id": "28e20ba0-8c16-4f5f-8f55-d31235198e0b",
   "metadata": {},
   "outputs": [
    {
     "data": {
      "text/html": [
       "<div>\n",
       "<style scoped>\n",
       "    .dataframe tbody tr th:only-of-type {\n",
       "        vertical-align: middle;\n",
       "    }\n",
       "\n",
       "    .dataframe tbody tr th {\n",
       "        vertical-align: top;\n",
       "    }\n",
       "\n",
       "    .dataframe thead th {\n",
       "        text-align: right;\n",
       "    }\n",
       "</style>\n",
       "<table border=\"1\" class=\"dataframe\">\n",
       "  <thead>\n",
       "    <tr style=\"text-align: right;\">\n",
       "      <th></th>\n",
       "      <th>지하철역</th>\n",
       "      <th>종사자수</th>\n",
       "      <th>거치대수</th>\n",
       "      <th>출근_적정따릉이수</th>\n",
       "      <th>출근_수요공급균형</th>\n",
       "    </tr>\n",
       "  </thead>\n",
       "  <tbody>\n",
       "    <tr>\n",
       "      <th>293</th>\n",
       "      <td>시청</td>\n",
       "      <td>285266</td>\n",
       "      <td>54.0</td>\n",
       "      <td>856.0</td>\n",
       "      <td>공급부족</td>\n",
       "    </tr>\n",
       "    <tr>\n",
       "      <th>295</th>\n",
       "      <td>을지로입구</td>\n",
       "      <td>281998</td>\n",
       "      <td>114.0</td>\n",
       "      <td>846.0</td>\n",
       "      <td>공급부족</td>\n",
       "    </tr>\n",
       "    <tr>\n",
       "      <th>296</th>\n",
       "      <td>종각</td>\n",
       "      <td>253275</td>\n",
       "      <td>65.0</td>\n",
       "      <td>760.0</td>\n",
       "      <td>공급부족</td>\n",
       "    </tr>\n",
       "    <tr>\n",
       "      <th>290</th>\n",
       "      <td>광화문(세종문화회관)</td>\n",
       "      <td>238362</td>\n",
       "      <td>107.0</td>\n",
       "      <td>715.0</td>\n",
       "      <td>공급부족</td>\n",
       "    </tr>\n",
       "    <tr>\n",
       "      <th>161</th>\n",
       "      <td>강남</td>\n",
       "      <td>216794</td>\n",
       "      <td>42.0</td>\n",
       "      <td>650.0</td>\n",
       "      <td>공급부족</td>\n",
       "    </tr>\n",
       "  </tbody>\n",
       "</table>\n",
       "</div>"
      ],
      "text/plain": [
       "            지하철역    종사자수   거치대수  출근_적정따릉이수 출근_수요공급균형\n",
       "293           시청  285266   54.0      856.0      공급부족\n",
       "295        을지로입구  281998  114.0      846.0      공급부족\n",
       "296           종각  253275   65.0      760.0      공급부족\n",
       "290  광화문(세종문화회관)  238362  107.0      715.0      공급부족\n",
       "161           강남  216794   42.0      650.0      공급부족"
      ]
     },
     "execution_count": 10,
     "metadata": {},
     "output_type": "execute_result"
    }
   ],
   "source": [
    "go[go['출근_수요공급균형'] == \"공급부족\"].sort_values(\"출근_적정따릉이수\", ascending = False).head()"
   ]
  },
  {
   "cell_type": "code",
   "execution_count": 11,
   "id": "a4d9edfd-5bbb-442f-9a31-1498017e8d30",
   "metadata": {},
   "outputs": [
    {
     "data": {
      "text/html": [
       "<div>\n",
       "<style scoped>\n",
       "    .dataframe tbody tr th:only-of-type {\n",
       "        vertical-align: middle;\n",
       "    }\n",
       "\n",
       "    .dataframe tbody tr th {\n",
       "        vertical-align: top;\n",
       "    }\n",
       "\n",
       "    .dataframe thead th {\n",
       "        text-align: right;\n",
       "    }\n",
       "</style>\n",
       "<table border=\"1\" class=\"dataframe\">\n",
       "  <thead>\n",
       "    <tr style=\"text-align: right;\">\n",
       "      <th></th>\n",
       "      <th>지하철역</th>\n",
       "      <th>종사자수</th>\n",
       "      <th>거치대수</th>\n",
       "      <th>출근_적정따릉이수</th>\n",
       "      <th>출근_수요공급균형</th>\n",
       "    </tr>\n",
       "  </thead>\n",
       "  <tbody>\n",
       "    <tr>\n",
       "      <th>127</th>\n",
       "      <td>고덕</td>\n",
       "      <td>16391</td>\n",
       "      <td>62.0</td>\n",
       "      <td>49.0</td>\n",
       "      <td>공급과잉</td>\n",
       "    </tr>\n",
       "    <tr>\n",
       "      <th>247</th>\n",
       "      <td>양원</td>\n",
       "      <td>13693</td>\n",
       "      <td>55.0</td>\n",
       "      <td>41.0</td>\n",
       "      <td>공급과잉</td>\n",
       "    </tr>\n",
       "    <tr>\n",
       "      <th>58</th>\n",
       "      <td>서울대벤처타운</td>\n",
       "      <td>11399</td>\n",
       "      <td>53.0</td>\n",
       "      <td>34.0</td>\n",
       "      <td>공급과잉</td>\n",
       "    </tr>\n",
       "    <tr>\n",
       "      <th>250</th>\n",
       "      <td>흑석(중앙대입구)</td>\n",
       "      <td>11273</td>\n",
       "      <td>57.0</td>\n",
       "      <td>34.0</td>\n",
       "      <td>공급과잉</td>\n",
       "    </tr>\n",
       "    <tr>\n",
       "      <th>229</th>\n",
       "      <td>녹천</td>\n",
       "      <td>11042</td>\n",
       "      <td>50.0</td>\n",
       "      <td>33.0</td>\n",
       "      <td>공급과잉</td>\n",
       "    </tr>\n",
       "  </tbody>\n",
       "</table>\n",
       "</div>"
      ],
      "text/plain": [
       "          지하철역   종사자수  거치대수  출근_적정따릉이수 출근_수요공급균형\n",
       "127         고덕  16391  62.0       49.0      공급과잉\n",
       "247         양원  13693  55.0       41.0      공급과잉\n",
       "58     서울대벤처타운  11399  53.0       34.0      공급과잉\n",
       "250  흑석(중앙대입구)  11273  57.0       34.0      공급과잉\n",
       "229         녹천  11042  50.0       33.0      공급과잉"
      ]
     },
     "execution_count": 11,
     "metadata": {},
     "output_type": "execute_result"
    }
   ],
   "source": [
    "go[go['출근_수요공급균형'] == \"공급과잉\"].sort_values(\"출근_적정따릉이수\", ascending = False).head()"
   ]
  },
  {
   "cell_type": "code",
   "execution_count": null,
   "id": "51fd2c91-b0dd-4be7-b9f5-a61561432bbc",
   "metadata": {},
   "outputs": [],
   "source": []
  }
 ],
 "metadata": {
  "kernelspec": {
   "display_name": "Python 3 (ipykernel)",
   "language": "python",
   "name": "python3"
  },
  "language_info": {
   "codemirror_mode": {
    "name": "ipython",
    "version": 3
   },
   "file_extension": ".py",
   "mimetype": "text/x-python",
   "name": "python",
   "nbconvert_exporter": "python",
   "pygments_lexer": "ipython3",
   "version": "3.12.7"
  }
 },
 "nbformat": 4,
 "nbformat_minor": 5
}
